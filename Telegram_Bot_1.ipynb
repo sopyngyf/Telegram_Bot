{
 "cells": [
  {
   "cell_type": "code",
   "execution_count": 1,
   "metadata": {},
   "outputs": [
    {
     "name": "stdout",
     "output_type": "stream",
     "text": [
      "Requirement already satisfied: python-telegram-bot in /Library/Frameworks/Python.framework/Versions/3.8/lib/python3.8/site-packages (12.4.2)\n",
      "Requirement already satisfied: certifi in /Library/Frameworks/Python.framework/Versions/3.8/lib/python3.8/site-packages (from python-telegram-bot) (2019.11.28)\n",
      "Requirement already satisfied: tornado>=5.1 in /Library/Frameworks/Python.framework/Versions/3.8/lib/python3.8/site-packages (from python-telegram-bot) (6.0.3)\n",
      "Requirement already satisfied: decorator>=4.4.0 in /Library/Frameworks/Python.framework/Versions/3.8/lib/python3.8/site-packages (from python-telegram-bot) (4.4.1)\n",
      "Requirement already satisfied: cryptography in /Library/Frameworks/Python.framework/Versions/3.8/lib/python3.8/site-packages (from python-telegram-bot) (2.8)\n",
      "Requirement already satisfied: future>=0.16.0 in /Library/Frameworks/Python.framework/Versions/3.8/lib/python3.8/site-packages (from python-telegram-bot) (0.18.2)\n",
      "Requirement already satisfied: six>=1.4.1 in /Library/Frameworks/Python.framework/Versions/3.8/lib/python3.8/site-packages (from cryptography->python-telegram-bot) (1.13.0)\n",
      "Requirement already satisfied: cffi!=1.11.3,>=1.8 in /Library/Frameworks/Python.framework/Versions/3.8/lib/python3.8/site-packages (from cryptography->python-telegram-bot) (1.14.0)\n",
      "Requirement already satisfied: pycparser in /Library/Frameworks/Python.framework/Versions/3.8/lib/python3.8/site-packages (from cffi!=1.11.3,>=1.8->cryptography->python-telegram-bot) (2.20)\n",
      "Note: you may need to restart the kernel to use updated packages.\n"
     ]
    }
   ],
   "source": [
    "pip install python-telegram-bot"
   ]
  },
  {
   "cell_type": "code",
   "execution_count": null,
   "metadata": {},
   "outputs": [],
   "source": [
    "import telegram\n",
    "import logging\n",
    "\n",
    "from telegram.ext import Updater\n",
    "from telegram.ext import CommandHandler\n",
    "from telegram.ext import MessageHandler, Filters"
   ]
  },
  {
   "cell_type": "code",
   "execution_count": null,
   "metadata": {},
   "outputs": [],
   "source": [
    "#to input new imports here then cut-paste to cell above."
   ]
  },
  {
   "cell_type": "code",
   "execution_count": 1,
   "metadata": {},
   "outputs": [],
   "source": [
    "# token value refers to the API token of your own bot\n",
    "bot = telegram.Bot(token='1047383488:AAHJVUq0okWEBoPktfnR68bkE96mRcrTysA')"
   ]
  },
  {
   "cell_type": "code",
   "execution_count": 2,
   "metadata": {},
   "outputs": [
    {
     "name": "stdout",
     "output_type": "stream",
     "text": [
      "{'id': 1047383488, 'first_name': 'TrainingBot', 'is_bot': True, 'username': 'tbica19_bot'}\n"
     ]
    },
    {
     "data": {
      "text/plain": [
       "{'first_name': 'TrainingBot', 'username': 'tbica19_bot'}"
      ]
     },
     "execution_count": 2,
     "metadata": {},
     "output_type": "execute_result"
    }
   ],
   "source": [
    "# to test whether your bot is running. Insert your bot display name and username\n",
    "print(bot.get_me())\n",
    "{\"first_name\": \"TrainingBot\", \"username\": \"tbica19_bot\"}"
   ]
  },
  {
   "cell_type": "code",
   "execution_count": 3,
   "metadata": {},
   "outputs": [],
   "source": [
    "updater = Updater(token='1047383488:AAHJVUq0okWEBoPktfnR68bkE96mRcrTysA', use_context=True)"
   ]
  },
  {
   "cell_type": "code",
   "execution_count": 4,
   "metadata": {},
   "outputs": [],
   "source": [
    "dispatcher = updater.dispatcher"
   ]
  },
  {
   "cell_type": "code",
   "execution_count": 5,
   "metadata": {},
   "outputs": [],
   "source": [
    "logging.basicConfig(format='%(asctime)s - %(name)s - %(levelname)s - %(message)s', level=logging.INFO)"
   ]
  },
  {
   "cell_type": "code",
   "execution_count": 18,
   "metadata": {},
   "outputs": [],
   "source": [
    "def echo(update, context):\n",
    "    context.bot.send_message(chat_id=update.effective_chat.id, text=update.message.text)\n",
    "\n",
    "echo_handler = MessageHandler(Filters.text, echo)\n",
    "dispatcher.add_handler(echo_handler)"
   ]
  },
  {
   "cell_type": "code",
   "execution_count": 7,
   "metadata": {},
   "outputs": [],
   "source": [
    "def start(update, context):\n",
    "    context.bot.send_message(chat_id=update.effective_chat.id, text=\"I am a bot that tries her best to respond to your queries\")\n",
    "    \n",
    "start_handler = CommandHandler('start', start)\n",
    "dispatcher.add_handler(start_handler)"
   ]
  },
  {
   "cell_type": "code",
   "execution_count": 10,
   "metadata": {},
   "outputs": [],
   "source": [
    "def mc(update, context):\n",
    "    context.bot.send_message(chat_id=update.effective_chat.id, text=\"Submit your MC by the following day deployed at HTA and apply via the PaC@Gov\")\n",
    "    \n",
    "mc_handler = CommandHandler('mc', mc)\n",
    "dispatcher.add_handler(mc_handler)"
   ]
  },
  {
   "cell_type": "code",
   "execution_count": 14,
   "metadata": {},
   "outputs": [],
   "source": [
    "def about(update, context):\n",
    "    context.bot.send_message(chat_id=update.effective_chat.id, text=\"This is a bot to answer your query\")\n",
    "    \n",
    "about_handler = CommandHandler('about', about)\n",
    "dispatcher.add_handler(about_handler)"
   ]
  },
  {
   "cell_type": "code",
   "execution_count": 15,
   "metadata": {},
   "outputs": [],
   "source": [
    "def how(update, context):\n",
    "    context.bot.send_message(chat_id=update.effective_chat.id, text=\"type / followed by the keyword, for example, /about\")\n",
    "    \n",
    "how_handler = CommandHandler('how', how)\n",
    "dispatcher.add_handler(how_handler)"
   ]
  },
  {
   "cell_type": "code",
   "execution_count": 13,
   "metadata": {},
   "outputs": [],
   "source": [
    "updater.start_polling()"
   ]
  },
  {
   "cell_type": "code",
   "execution_count": 16,
   "metadata": {},
   "outputs": [],
   "source": [
    "updater.stop()"
   ]
  },
  {
   "cell_type": "code",
   "execution_count": null,
   "metadata": {},
   "outputs": [],
   "source": []
  }
 ],
 "metadata": {
  "kernelspec": {
   "display_name": "Python 3",
   "language": "python",
   "name": "python3"
  },
  "language_info": {
   "codemirror_mode": {
    "name": "ipython",
    "version": 3
   },
   "file_extension": ".py",
   "mimetype": "text/x-python",
   "name": "python",
   "nbconvert_exporter": "python",
   "pygments_lexer": "ipython3",
   "version": "3.8.1"
  }
 },
 "nbformat": 4,
 "nbformat_minor": 2
}
